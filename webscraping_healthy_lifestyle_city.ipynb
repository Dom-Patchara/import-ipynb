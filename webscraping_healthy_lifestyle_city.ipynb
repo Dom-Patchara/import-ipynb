{
 "cells": [
  {
   "cell_type": "markdown",
   "id": "c8885758",
   "metadata": {},
   "source": [
    "# 2602`454`: quiz `3` (`15` points)\n",
    "\n",
    "วันสอบ `2-Mar-2022` เวลา `09:15-10:15`"
   ]
  },
  {
   "cell_type": "markdown",
   "id": "9a977b3f",
   "metadata": {},
   "source": [
    "## ทุจริตในการสอบมีโทษได้เกรด F ในรายวิชานั้น และพักการศึกษาตามระเบียบของจุฬาฯ\n",
    "\n",
    "### คำสั่ง (หากไม่ปฏิบัติตามจะได้ 0 คะแนน)\n",
    "\n",
    "1. ดาวน์โหลดไฟล์ข้อสอบ แล้วเปลี่ยนชื่อไฟล์โดยใช้รหัสนิสิตแล้วตามด้วย `quiz3` เช่น หากรหัสนิสิตเป็น `6241234526` ให้ตั้งชื่อไฟล์ว่า `6241234526quiz3.ipynb`\n",
    "2. ไม่อนุญาตให้นำอุปกรณ์สื่อสารและอุปกรณ์เก็บข้อมูลทุกชนิดเข้าในที่นั่งสอบ\n",
    "3. ระหว่างทำข้อสอบ ไม่อนุญาตให้เข้าเว็บไซต์ทุกชนิด และห้ามเปิดไฟล์อื่นที่ไม่ใช่ข้อสอบโดยเด็ดขาด ยกเว้นในการรับและส่งข้อสอบ\n",
    "4. นิสิตควรทำการ save ไฟล์อย่างสม่ำเสมอระหว่างสอบ\n",
    "5. ส่งข้อสอบไปยัง google classroom ที่กำหนด ภายใน 10:15 น. ส่งสายจะถูกหักนาทีละ 3 คะแนน\n",
    "6. ให้ส่งไฟล์ (Turn in) ได้เพียงครั้งเดียวเท่านั้น หากส่งเกินกว่าหนึ่งครั้งจะตรวจจากไฟล์ครั้งหลังสุดที่ส่ง โดยคะแนนที่ได้จะถูกหารด้วยจำนวนครั้งที่ส่ง เช่น จากคะแนนเต็ม 15 คะแนน ทำได้ 10 คะแนน แต่เนื่องจากมีการส่ง (Turn in) 2 ครั้ง ทำให้คะแนนเหลือเพียง 5 คะแนน (10 / 2)\n"
   ]
  },
  {
   "cell_type": "markdown",
   "id": "48475efd",
   "metadata": {},
   "source": [
    "**<span style=\"color:orange\">ข้าพเจ้าขอรับรองว่าข้าพเจ้าเป็นผู้ทำข้อสอบชุดนี้แต่เพียงผู้เดียว มิได้มีการปรึกษาหารือกับผู้อื่นในระหว่างการสอบ รวมถึงมิได้ทำการคัดลอกหรือดัดแปลงส่วนใดส่วนหนึ่งของข้อสอบจากผู้อื่น (หากไม่พิมพ์ข้อมูลรหัสนิสิตและชื่อจะได้ศูนย์คะแนน)</span>**\n",
    "\n",
    "## student id: `6241069926`\n",
    "\n",
    "## student name (Thai): `ณัฐวัฒน์ วัฒนพงศ์ศิริ`\n"
   ]
  },
  {
   "cell_type": "code",
   "execution_count": null,
   "id": "5131d4a8",
   "metadata": {},
   "outputs": [],
   "source": [
    "from datetime import datetime\n",
    "import socket\n",
    "\n",
    "print(\n",
    "    f\"ip address: {socket.gethostbyname(socket.gethostname())} ({socket.gethostname()})\"\n",
    ")\n",
    "print(f\"last run: {datetime.now()}\")\n",
    "\n"
   ]
  },
  {
   "cell_type": "code",
   "execution_count": null,
   "id": "2976b837",
   "metadata": {},
   "outputs": [],
   "source": [
    "import pandas as pd"
   ]
  },
  {
   "cell_type": "markdown",
   "id": "6527394c",
   "metadata": {},
   "source": [
    "# Expected DataFrame"
   ]
  },
  {
   "cell_type": "code",
   "execution_count": null,
   "id": "f76d5d77",
   "metadata": {},
   "outputs": [],
   "source": [
    "d_expected=pd.read_csv('healthy_lifestyle_city.csv')\n",
    "d_expected"
   ]
  },
  {
   "cell_type": "code",
   "execution_count": null,
   "id": "a3cf7492",
   "metadata": {},
   "outputs": [],
   "source": [
    "d_expected.info()"
   ]
  },
  {
   "cell_type": "code",
   "execution_count": null,
   "id": "a5587070",
   "metadata": {},
   "outputs": [],
   "source": [
    "d_expected.describe()"
   ]
  },
  {
   "cell_type": "markdown",
   "id": "smart-asbestos",
   "metadata": {},
   "source": [
    "# scrape Healthy Lifestyle Report\n",
    "* webpage: https://www.lenstore.co.uk/research/healthy-lifestyle-report/"
   ]
  },
  {
   "cell_type": "code",
   "execution_count": null,
   "id": "b75d786c",
   "metadata": {},
   "outputs": [],
   "source": [
    "# your code\n",
    "# name your final DataFrame as `df`"
   ]
  },
  {
   "cell_type": "code",
   "execution_count": null,
   "id": "9ac515cf",
   "metadata": {},
   "outputs": [],
   "source": [
    "import requests\n",
    "import bs4\n",
    "from bs4 import BeautifulSoup\n",
    "from PIL import Image\n",
    "import io\n",
    "import re\n",
    "from IPython.display import HTML\n",
    "import numpy as np"
   ]
  },
  {
   "cell_type": "code",
   "execution_count": null,
   "id": "7be616a8",
   "metadata": {},
   "outputs": [],
   "source": [
    "print(f'pandas version = {pd.__version__}')\n",
    "print(f'bs4    version = {bs4.__version__}')"
   ]
  },
  {
   "cell_type": "code",
   "execution_count": null,
   "id": "8c5c2d81",
   "metadata": {},
   "outputs": [],
   "source": [
    "pd.Timestamp.today()"
   ]
  },
  {
   "cell_type": "code",
   "execution_count": null,
   "id": "18f825d1",
   "metadata": {},
   "outputs": [],
   "source": [
    "url='https://www.lenstore.co.uk/research/healthy-lifestyle-report/'\n",
    "r=requests.get(url)\n",
    "r.text"
   ]
  },
  {
   "cell_type": "code",
   "execution_count": null,
   "id": "8e2de7dc",
   "metadata": {},
   "outputs": [],
   "source": [
    "s = BeautifulSoup(r.text, 'lxml')\n",
    "type(s)"
   ]
  },
  {
   "cell_type": "code",
   "execution_count": null,
   "id": "e7c0f9a2",
   "metadata": {},
   "outputs": [],
   "source": [
    "member = s.select('div.tr')"
   ]
  },
  {
   "cell_type": "code",
   "execution_count": null,
   "id": "d6b2345a",
   "metadata": {},
   "outputs": [],
   "source": [
    "member"
   ]
  },
  {
   "cell_type": "code",
   "execution_count": null,
   "id": "77180809",
   "metadata": {},
   "outputs": [],
   "source": [
    "len(member)"
   ]
  },
  {
   "cell_type": "code",
   "execution_count": null,
   "id": "d95f0d4f",
   "metadata": {},
   "outputs": [],
   "source": [
    "print(member[1].prettify())"
   ]
  },
  {
   "cell_type": "code",
   "execution_count": null,
   "id": "feb8b781",
   "metadata": {},
   "outputs": [],
   "source": [
    "member[1].select('div.td>p')[0].text"
   ]
  },
  {
   "cell_type": "code",
   "execution_count": null,
   "id": "64b87fbe",
   "metadata": {},
   "outputs": [],
   "source": [
    "def save_img(imfileaname: str, contents):\n",
    "    with open(imgfilename, 'wb') as f:\n",
    "        f.write(contents)"
   ]
  },
  {
   "cell_type": "code",
   "execution_count": null,
   "id": "8c4301bd",
   "metadata": {},
   "outputs": [],
   "source": [
    "lst=[]\n",
    "for e in member[1:45]:\n",
    "    a1=e.select('div.td>p')[0].text\n",
    "    a2=e.select('div.td>p')[1].text\n",
    "    a3=e.select('div.td>p')[2].text\n",
    "    a4=e.select('div.td>p')[3].text\n",
    "    a5=e.select('div.td>p')[4].text\n",
    "    a6=e.select('div.td>p')[5].text\n",
    "    a7=e.select('div.td>p')[6].text\n",
    "    a8=e.select('div.td>p')[7].text\n",
    "    a9=e.select('div.td>p')[8].text\n",
    "    a10=e.select('div.td>p')[9].text\n",
    "    a11=e.select('div.td>p')[10].text\n",
    "    a12=e.select('div.td>p')[11].text\n",
    "    lst.append([a1, a2, a3, a4, a5, a6, a7, a8, a9, a10, a11, a12])\n",
    "lst"
   ]
  },
  {
   "cell_type": "code",
   "execution_count": null,
   "id": "61ceb09c",
   "metadata": {},
   "outputs": [],
   "source": [
    "pd.options.display.max_colwidth = 0"
   ]
  },
  {
   "cell_type": "code",
   "execution_count": null,
   "id": "43315ae6",
   "metadata": {},
   "outputs": [],
   "source": [
    "df=pd.DataFrame(lst, columns=['City', 'Rank', 'Sunshine hours(City)', 'Cost of a bottle of water(City)', 'Obesity levels(Country)', 'Life expectancy(years) (Country)', 'Pollution(Index score) (City)', 'Annual avg. hours worked', 'Happiness levels(Country)', 'Outdoor activities(City)', 'Number of take out places(City)', 'Cost of a monthly gym membership(City)'])\n",
    "df.replace('-', np.NaN, inplace=True)\n",
    "df['Rank']=df['Rank'].astype(np.int64)\n",
    "df['Sunshine hours(City)']=df['Sunshine hours(City)'].str.replace(r'[^\\d\\.]','', regex=True).astype(float)\n",
    "df['Cost of a bottle of water(City)']=df['Cost of a bottle of water(City)'].str.replace(r'[^\\d\\.]','', regex=True).astype(float)\n",
    "df['Obesity levels(Country)']=df['Obesity levels(Country)'].str.replace(r'[^\\d\\.]','', regex=True).astype(float)\n",
    "df['Life expectancy(years) (Country)']=df['Life expectancy(years) (Country)'].astype(float)\n",
    "df['Pollution(Index score) (City)']=df['Pollution(Index score) (City)'].astype(float)\n",
    "df['Annual avg. hours worked']=df['Annual avg. hours worked'].str.replace(r'[^\\d\\.]','', regex=True).astype(float)\n",
    "df['Happiness levels(Country)']=df['Happiness levels(Country)'].astype(float)\n",
    "df['Outdoor activities(City)']=df['Outdoor activities(City)'].astype(np.int64)\n",
    "df['Number of take out places(City)']=df['Number of take out places(City)'].str.replace(r'[^\\d\\.]','', regex=True).astype(np.int64)\n",
    "df['Cost of a monthly gym membership(City)']=df['Cost of a monthly gym membership(City)'].str.replace(r'[^\\d\\.]','', regex=True).astype(float)\n",
    "df\n"
   ]
  },
  {
   "cell_type": "code",
   "execution_count": null,
   "id": "54880fec",
   "metadata": {},
   "outputs": [],
   "source": [
    "df.info()"
   ]
  },
  {
   "cell_type": "code",
   "execution_count": null,
   "id": "54880fec",
   "metadata": {},
   "outputs": [],
   "source": [
    "df.describe()"
   ]
  }
 ],
 "metadata": {
  "kernelspec": {
   "display_name": "Python 3",
   "language": "python",
   "name": "python3"
  },
  "language_info": {
   "codemirror_mode": {
    "name": "ipython",
    "version": 3
   },
   "file_extension": ".py",
   "mimetype": "text/x-python",
   "name": "python",
   "nbconvert_exporter": "python",
   "pygments_lexer": "ipython3",
   "version": "3.8.12"
  },
  "widgets": {
   "application/vnd.jupyter.widget-state+json": {
    "state": {},
    "version_major": 2,
    "version_minor": 0
   }
  }
 },
 "nbformat": 4,
 "nbformat_minor": 5
}
